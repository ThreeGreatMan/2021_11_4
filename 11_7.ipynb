{
 "cells": [
  {
   "cell_type": "code",
   "execution_count": 1,
   "metadata": {},
   "outputs": [],
   "source": [
    "# 这是我电脑自己环境的问题，你们不用运行\n",
    "import sys\n",
    "sys.path\n",
    "sys.path.remove('C:\\\\Users\\\\Lenovo\\\\AppData\\\\Roaming\\\\Python\\\\Python38\\\\site-packages')"
   ]
  },
  {
   "cell_type": "code",
   "execution_count": 249,
   "metadata": {},
   "outputs": [],
   "source": [
    "import numpy as np\n",
    "import pandas as pd\n",
    "import matplotlib.pyplot as plt\n",
    "import matplotlib\n",
    "import math\n",
    "from math import *\n",
    "import random\n",
    "from scipy.optimize import fmin\n",
    "\n",
    "colors = [\"grey\", \"brown\", \"orange\", \"olive\", \"green\", \"cyan\",\n",
    "              \"blue\", \"purple\", \"pink\", \"red\"]\n",
    "\n",
    "# colors = ['black', 'gray', 'firebrick', 'red', 'chocolate',\n",
    "#               'orange', 'peru', 'darkgoldenrod', 'olive',\n",
    "#               'yellow', 'green', 'turquoise', 'deepskyblue',\n",
    "#               'blue', 'violet', 'purple', 'deeppink']"
   ]
  },
  {
   "cell_type": "markdown",
   "metadata": {},
   "source": [
    "# Kmeans"
   ]
  },
  {
   "cell_type": "markdown",
   "metadata": {},
   "source": [
    "## 0. LDA, DSC, dDSC, GONG Function"
   ]
  },
  {
   "cell_type": "code",
   "execution_count": 3,
   "metadata": {},
   "outputs": [],
   "source": [
    "# 返回质心向量\n",
    "def getTwoClassMean(c0, c1):\n",
    "    \"\"\"\n",
    "    get the mean vector of two class\n",
    "    \"\"\"\n",
    "    mean0_vectors = np.mean(c0, axis=0)\n",
    "    mean1_vectors = np.mean(c1, axis=0)\n",
    "    return mean0_vectors, mean1_vectors\n",
    "# 返回SW SB\n",
    "def getClassScatterMatrix(c0, c1):\n",
    "    \"\"\"\n",
    "    input two class data\n",
    "    return the scatter for each class\n",
    "    and with-in sc_mat and between sc_mat\n",
    "    \"\"\"\n",
    "    mean0_vectors, mean1_vectors = getTwoClassMean(c0, c1)\n",
    "    num0 = c0.shape[0]\n",
    "    num1 = c1.shape[0]\n",
    "    dim = c0.shape[1]\n",
    "    class0_sc_mat = np.zeros((dim, dim))\n",
    "    mv = mean0_vectors.reshape((dim, 1))\n",
    "    for row in c0:\n",
    "        row = row.reshape((dim, 1))\n",
    "        class0_sc_mat += (row-mv).dot((row-mv).T)\n",
    "    class1_sc_mat = np.zeros((dim, dim))\n",
    "    mv = mean1_vectors.reshape((dim, 1))\n",
    "    for row in c1:\n",
    "        row = row.reshape((dim, 1))\n",
    "        class1_sc_mat += (row-mv).dot((row-mv).T)\n",
    "    S_W = class0_sc_mat + class1_sc_mat\n",
    "    c = np.concatenate((c0, c1))  # Vertical stacking, default axis is 0\n",
    "    overall_mean = np.mean(c, axis=0)\n",
    "    overall_mean = overall_mean.reshape((dim, 1))\n",
    "    mean_vec = mean0_vectors.reshape((dim, 1))\n",
    "    S_B = np.zeros((dim, dim))\n",
    "    S_B += num0 * (mean_vec - overall_mean).dot((mean_vec - overall_mean).T)\n",
    "    mean_vec = mean1_vectors.reshape((dim, 1))\n",
    "    S_B += num1 * (mean_vec - overall_mean).dot((mean_vec - overall_mean).T)\n",
    "    return class0_sc_mat, class1_sc_mat, S_W, S_B\n",
    "\n",
    "\n",
    "# 返回LDA目标函数在该投影下的值\n",
    "def getLDAValue(S_W, S_B, w):\n",
    "    result_cost = 1.0 * w.T.dot(S_B).dot(w) / w.T.dot(S_W).dot(w)\n",
    "    return result_cost\n",
    "\n",
    "\n",
    "def lda(c0, c1):\n",
    "    \"\"\"\n",
    "    type is ndarray\n",
    "    shape like (200,2) and 200 is the number of samples and 2 is the number of features\n",
    "    pass two class data to the function\n",
    "    return the Eigenvectors using LDA\n",
    "    the solve method is Eigenvalue Decomposition\n",
    "    \"\"\"\n",
    "    # get the basic information\n",
    "    dim = c0.shape[1]  # the dim is the number of features, for instance, the dim of iris is 4\n",
    "    c = np.concatenate((c0, c1))  # Vertical stacking, default axis is 0\n",
    "    overall_mean = np.mean(c, axis=0)  # the overall_mean of the samples\n",
    "    # print(\"overall_mean: \", overall_mean)\n",
    "    num0 = c0.shape[0]  # the number of class-0\n",
    "    num1 = c1.shape[0]  # the number of class-1\n",
    "\n",
    "    # Computing the mean vectors\n",
    "    mean0_vectors = np.mean(c0, axis=0)\n",
    "    mean1_vectors = np.mean(c1, axis=0)\n",
    "    S_W = np.zeros((dim, dim))\n",
    "    class0_sc_mat = np.zeros((dim, dim))\n",
    "    mv = mean0_vectors.reshape(dim, 1)\n",
    "    # print(\"mv: \", mv)\n",
    "    for row in c0:\n",
    "        row = row.reshape(dim, 1)\n",
    "        # print(\"row-mv: \\n\", row-mv)\n",
    "        class0_sc_mat += (row-mv).dot((row-mv).T)\n",
    "        # print(\"class0_sc_mat: \", class0_sc_mat)\n",
    "    S_W += class0_sc_mat\n",
    "    # print(\"within-class Scatter Matrix: \\n\", S_W)\n",
    "\n",
    "    # for class1, al S_W1\n",
    "    class1_sc_mat = np.zeros((dim, dim))\n",
    "    mv = mean1_vectors.reshape((dim, 1))\n",
    "    # print(\"mv: \", mv)\n",
    "    for row in c1:\n",
    "        row = row.reshape(dim, 1)\n",
    "        class1_sc_mat += (row-mv).dot((row-mv).T)\n",
    "        \n",
    "    \n",
    "    S_W += class1_sc_mat\n",
    "    # print(\"within-class Scatter Matrix: \\n\", S_W)\n",
    "\n",
    "    # Between-class scatter matrix S_B\n",
    "    S_B = np.zeros((dim, dim))\n",
    "    # print(\"overall_mean: \", overall_mean)\n",
    "    overall_mean = overall_mean.reshape(dim, 1)\n",
    "    mean_vec = mean0_vectors.reshape(dim, 1)\n",
    "    S_B += num0*(mean_vec-overall_mean).dot((mean_vec-overall_mean).T)\n",
    "    mean_vec = mean1_vectors.reshape(dim, 1)\n",
    "    S_B += num1*(mean_vec-overall_mean).dot((mean_vec-overall_mean).T)\n",
    "    # print(\"between-class Scatter Matrix: \\n\", S_B)\n",
    "\n",
    "    eig_vals, eig_vecs = np.linalg.eig(np.linalg.pinv(S_W).dot(S_B))\n",
    "    # for i in range(len(eig_vals)):\n",
    "    #     eigvec_sc = eig_vecs[:, i].reshape(dim, 1)\n",
    "    #     print(\"\\nEigenvector {}: \\n{}\".format(i+1, eigvec_sc.real))\n",
    "    #     print(\"Eigenvalue {:}: {:.2e}\".format(i+1, eig_vals[i].real))\n",
    "\n",
    "    eig_pairs = [(np.abs(eig_vals[i]), eig_vecs[:, i]) for i in range(len(eig_vals))]\n",
    "\n",
    "    eig_pairs = sorted(eig_pairs, key=lambda k: k[0], reverse=True)\n",
    "\n",
    "\n",
    "    return [i[1] for i in eig_pairs]\n"
   ]
  },
  {
   "cell_type": "code",
   "execution_count": 4,
   "metadata": {},
   "outputs": [],
   "source": [
    "def get_distance_to_point(P1, P2):\n",
    "\n",
    "    dx = abs(P1[0] - P2[0])\n",
    "    dy = abs(P1[1] - P2[1])\n",
    "    return math.sqrt(dx * dx + dy * dy)\n",
    "\n",
    "\n",
    "# 计算一个点的GONG值，即所定义的set中与自己同类别所占的比例\n",
    "def cal_one_point_GONG(Points, Label, i):\n",
    "    omega = 0\n",
    "    same_indicator = 0\n",
    "    tot_num = Points.shape[0]\n",
    "    for j in range(tot_num):\n",
    "        if j == i:\n",
    "            continue\n",
    "        flag = True\n",
    "        intermediary_point = 0.35 * Points[j] + 0.65 * Points[i]\n",
    "        int2j_dist = get_distance_to_point(intermediary_point, Points[j])\n",
    "        for k in range(tot_num):\n",
    "            if k == i:\n",
    "                continue\n",
    "            dist = get_distance_to_point(intermediary_point, Points[k])\n",
    "            if dist < int2j_dist:\n",
    "                flag = False\n",
    "                break\n",
    "        if flag == False:\n",
    "            continue\n",
    "        omega += 1\n",
    "        if Label[i] == Label[j]:\n",
    "            same_indicator += 1\n",
    "    if omega == 0:\n",
    "        return 0\n",
    "    return same_indicator/omega\n",
    "\n",
    "\n",
    "# 计算某个类的GONG值\n",
    "def get_label_GONG(Points, Label, lab):\n",
    "    GONG_list = []\n",
    "    tot_num = Points.shape[0]\n",
    "    for i in range(tot_num):\n",
    "        GONG_list.append(cal_one_point_GONG(Points, Label, i))\n",
    "    GONG_list = np.array(GONG_list)\n",
    "    return np.mean(GONG_list[Label == lab])\n",
    "\n",
    "# 返回每个点的GONG值\n",
    "def getGONGSepList(Points, Label):\n",
    "    gongSepList = []\n",
    "    tot_num = Points.shape[0]\n",
    "    for i in range(tot_num):\n",
    "        gongSepList.append(cal_one_point_GONG(Points, Label, i))\n",
    "    return gongSepList\n",
    "\n",
    "\n",
    "# 计算一个投影的GONG\n",
    "def get_GONG_value(data, Label, evaluation):\n",
    "    if evaluation == \"Silhouette Coefficient\":\n",
    "        return metrics.silhouette_score(Points, Label)\n",
    "    answer = 0\n",
    "    for lab in set(label):\n",
    "        answer += get_label_GONG(data,label,lab) * len(label[label == lab]) / len(label)\n",
    "    return answer\n",
    "    \n",
    "    \n",
    "def get_weighted_GONG(data, label, proj_set, proj_set_labels):\n",
    "    \"\"\"\n",
    "    计算整个图的加权GONG值\n",
    "    输入：原始数据data，label，投影集projection_set\n",
    "    data和一个投影平面projection_set[i],可以组成投影后的data_\n",
    "    对于每个类：\n",
    "    计算这个类在所有投影中的GONG\n",
    "    取最大值，作为这个类的GONG\n",
    "    最终对每个类的GONG加权，得到整个图的加权GONG\n",
    "    \"\"\"\n",
    "    proj_num = len(proj_set)\n",
    "    \n",
    "    label_count = {}\n",
    "    GONG = []# GONG[i][j] 代表：在投影i上，第j个类的GONG值\n",
    "    for i in range(proj_num):\n",
    "        proj = proj_set[i]\n",
    "        proj_label = proj_set_labels[i]\n",
    "        GONG_list = {}\n",
    "\n",
    "        data_0, data_1, data_, label_ = project_on_merged_vectors(data, label, set(proj_label), proj[0], proj[1])\n",
    "        \n",
    "        # 计算该投影下每一个类的GONG\n",
    "        for lab in set(label_): \n",
    "            GONG_list[lab] = get_label_GONG(data_,label_,lab)\n",
    "            label_count[lab] = len(label[label==lab])\n",
    "            \n",
    "        print(GONG_list)\n",
    "        # 存入GONG\n",
    "        GONG.append(GONG_list)\n",
    "        \n",
    "    label_GONG = {}\n",
    "    for GONG_list in GONG:\n",
    "        for key in GONG_list:\n",
    "            if key not in label_GONG:\n",
    "                label_GONG[key] = GONG_list[key]\n",
    "            else:\n",
    "                label_GONG[key] = max(label_GONG[key], GONG_list[key])\n",
    "            \n",
    "    print('-------')\n",
    "    print(label_GONG)\n",
    "    print(label_count)\n",
    "    weighted_GONG = 0 \n",
    "    \n",
    "    cnt = 0\n",
    "    for key in label_GONG:\n",
    "        weighted_GONG += label_GONG[key] * label_count[key]\n",
    "        cnt += label_count[key]\n",
    "\n",
    "    weighted_GONG /= cnt\n",
    "    return weighted_GONG"
   ]
  },
  {
   "cell_type": "markdown",
   "metadata": {},
   "source": [
    "## 1. Load and preprocess data"
   ]
  },
  {
   "cell_type": "code",
   "execution_count": 5,
   "metadata": {},
   "outputs": [],
   "source": [
    "def read_data_from_file(filename):\n",
    "    \"\"\"\n",
    "    :param filename: the data file, the format is class_label, dim0, dim1, ...\n",
    "    :return: data and label\n",
    "    \"\"\"\n",
    "    newfilename = './Data/' + filename  # because my data is in the Data folder\n",
    "    data = []\n",
    "    with open(newfilename, 'r') as f:\n",
    "        for line in f:\n",
    "            data.append(list(eval(line)))\n",
    "    data = np.array(data)\n",
    "    dim = data.shape[1]\n",
    "    return data[:, 1:dim], data[:, 0]\n",
    "\n",
    "\n",
    "# # 重新编排label为0, 1, 2,...\n",
    "def get_label_right(label):\n",
    "    class_label = list(set(label))\n",
    "    label_dict = {}\n",
    "    re_label = 0\n",
    "    for it in class_label:\n",
    "        label_dict[it] = re_label\n",
    "        re_label += 1\n",
    "    new_label = []\n",
    "    for it in label:\n",
    "        new_label.append(label_dict[it])\n",
    "    return np.array(new_label)"
   ]
  },
  {
   "cell_type": "code",
   "execution_count": 205,
   "metadata": {},
   "outputs": [
    {
     "name": "stdout",
     "output_type": "stream",
     "text": [
      "(151, 10)\n",
      "[0 0 0 0 0 0 0 0 0 0 0 0 0 0 0 0 0 0 0 0 0 0 0 0 0 0 0 0 0 0 0 0 0 0 0 0 0\n",
      " 0 0 0 0 0 0 1 1 1 1 1 1 1 1 1 1 1 1 1 1 1 1 1 1 1 1 1 1 1 1 1 1 1 1 1 1 1\n",
      " 1 1 1 1 1 1 2 2 2 2 2 2 2 2 3 3 3 3 3 3 3 3 3 3 3 3 3 3 3 3 3 3 3 3 3 3 4\n",
      " 4 4 4 4 4 4 4 4 4 4 4 4 4 4 4 4 4 4 4 4 4 4 4 4 4 4 4 4 4 4 4 4 4 4 4 4 4\n",
      " 4 4 4]\n"
     ]
    }
   ],
   "source": [
    "# Change the following two lines to fit your data\n",
    "fname = \"world_9d.csv\"  # the class data file\n",
    "data, label = read_data_from_file(fname)\n",
    "label = get_label_right(label)\n",
    "label = np.array(list(map(int, label)))\n",
    "print(data.shape)\n",
    "print(label)"
   ]
  },
  {
   "cell_type": "markdown",
   "metadata": {},
   "source": [
    "## 2. Calculate the box"
   ]
  },
  {
   "cell_type": "code",
   "execution_count": 161,
   "metadata": {},
   "outputs": [],
   "source": [
    "#？\n",
    "# 确保该向量方向是对的\n",
    "def get_right_direction(vec, last_axis):\n",
    "    if np.dot(vec, last_axis) < 0:\n",
    "        return -vec\n",
    "    return vec\n",
    "\n",
    "\n",
    "# 第一步：寻找LDA下的最佳discriminative vector\n",
    "def get_optimal_vector_from_lda(c0, c1):\n",
    "    discriminating_vectors = lda(c0, c1)\n",
    "    opt_vec = np.real(discriminating_vectors[0])  # ndarray\n",
    "    return opt_vec\n",
    "\n",
    "\n",
    "#？last_axis\n",
    "# 寻找每两个类之间的最佳投影向量  (c0,c1):vector\n",
    "def get_between_class_opt_vec(data, label):\n",
    "    \"\"\"\n",
    "    :param data: the input data\n",
    "    :param label: The label of the data\n",
    "    :return: the optimal discriminant vector corresponding to (class a, class b)\n",
    "    \"\"\"\n",
    "    class_list = list(set(label))\n",
    "    vec_dict = {}\n",
    "    class_num = len(class_list)\n",
    "    # dim = data.shape[1]\n",
    "    # last_axis = np.array([0 for i in range(dim)])\n",
    "    # last_axis[dim - 1] = last_dim\n",
    "    # 对于每两个类\n",
    "    for i in range(class_num):\n",
    "        for j in range(i+1, class_num):\n",
    "            # 计算最佳投影向量并加入字典\n",
    "            opt_vec = get_optimal_vector_from_lda(data[label == class_list[i]],data[label == class_list[j]])\n",
    "            # opt_vec = get_right_direction(opt_vec, last_axis)\n",
    "            vec_dict[(class_list[i], class_list[j])] = opt_vec\n",
    "    vecs = []\n",
    "    for key in vec_dict:\n",
    "        vecs.append(vec_dict[key])\n",
    "    vecs = np.array(vecs)\n",
    "    return vec_dict, vecs"
   ]
  },
  {
   "cell_type": "code",
   "execution_count": 206,
   "metadata": {},
   "outputs": [
    {
     "name": "stdout",
     "output_type": "stream",
     "text": [
      "{(0, 1): array([ 0.01000427, -0.00899252,  0.00154087,  0.05179582, -0.06149149,\n",
      "        0.52888697,  0.49012759,  0.51823871,  0.16787152, -0.42030224]), (0, 2): array([ 0.02093861, -0.02096316,  0.00724397, -0.0199828 ,  0.03118337,\n",
      "       -0.43177606, -0.39175189, -0.37543651,  0.61536107, -0.37172033]), (0, 3): array([ 0.0030737 , -0.00764357,  0.00469589, -0.01531187,  0.05904783,\n",
      "       -0.59071367, -0.57010413, -0.56437359,  0.00126363,  0.06089725]), (0, 4): array([ 0.0096289 , -0.02709662,  0.01779539, -0.12634466,  0.04539298,\n",
      "       -0.45635238, -0.39413421, -0.41249948,  0.30905343,  0.59292813]), (1, 2): array([ 0.0161357 , -0.04432637,  0.02801448,  0.07342133, -0.19437196,\n",
      "        0.33984107,  0.34456502,  0.37198205,  0.02192283, -0.76206994]), (1, 3): array([-0.00655272,  0.01512236, -0.00882023,  0.00605762,  0.2516175 ,\n",
      "        0.16427713,  0.1598124 ,  0.15294983, -0.09450386, -0.92274098]), (1, 4): array([ 0.00388225, -0.00914839,  0.00551221, -0.03397938, -0.02550166,\n",
      "        0.01557537,  0.01867106,  0.02826648,  0.05020908,  0.9970731 ]), (2, 3): array([ 0.00085619, -0.00428206,  0.00294293, -0.00361863, -0.09378969,\n",
      "        0.27400041,  0.29555173,  0.3626395 ,  0.61852267, -0.56094377]), (2, 4): array([ 0.00917913, -0.01509593,  0.00684462,  0.05508286, -0.09247684,\n",
      "        0.00487294,  0.01181492, -0.00850273, -0.16814466, -0.97956453]), (3, 4): array([ 0.00742122, -0.01657922,  0.00953931, -0.06411133, -0.07753054,\n",
      "       -0.23585965, -0.21615121, -0.20933062,  0.05305877,  0.91677268])}\n"
     ]
    }
   ],
   "source": [
    "vec_dict, vecs = get_between_class_opt_vec(data, label)\n",
    "print(vec_dict)"
   ]
  },
  {
   "cell_type": "code",
   "execution_count": 9,
   "metadata": {},
   "outputs": [],
   "source": [
    "def get_id_pair(vec_dict):\n",
    "    i = 0\n",
    "    id_pair = {}\n",
    "    for key in vec_dict:\n",
    "        id_pair[i] = key\n",
    "        i += 1\n",
    "    return id_pair"
   ]
  },
  {
   "cell_type": "code",
   "execution_count": 207,
   "metadata": {},
   "outputs": [],
   "source": [
    "id_pair = get_id_pair(vec_dict)"
   ]
  },
  {
   "cell_type": "code",
   "execution_count": 11,
   "metadata": {},
   "outputs": [],
   "source": [
    "from sklearn.cluster import KMeans\n",
    "from sklearn.mixture import GaussianMixture"
   ]
  },
  {
   "cell_type": "code",
   "execution_count": null,
   "metadata": {},
   "outputs": [],
   "source": [
    "def fmin_fun(self, vecs, n_iter=100000, eps=1e-6, lr=1e-2):\n",
    "    prev_dists = 1e5\n",
    "    length = len(vecs)\n",
    "    v1, v2 = self.normalize(np.random.random(length)), self.normalize(np.random.random(length))\n",
    "    for _ in range(n_iter):\n",
    "        dv1 = 0\n",
    "        dv2 = 0\n",
    "        for v in vecs:\n",
    "            dv1 += self.gradent(v, v1, v2, v1)\n",
    "            dv2 += self.gradent(v, v1, v2, v2)\n",
    "\n",
    "        v1 -= lr * dv1 / length\n",
    "        v2 -= lr * dv2 / length\n",
    "\n",
    "        plain = np.array([v1, v2])\n",
    "        if abs(self.get_dist_to_plain(plain, vecs), prev_dists) < eps:\n",
    "            break\n",
    "            \n",
    "    plain = np.array([v1, v2])\n",
    "    return plain\n",
    "    \n",
    "def gradent(self, v, v1, v2, x):\n",
    "    \n",
    "        "
   ]
  },
  {
   "cell_type": "code",
   "execution_count": 495,
   "metadata": {},
   "outputs": [],
   "source": [
    "class K_Means(object):\n",
    "    # k是分组数；tolerance‘中心点误差’；max_iter是迭代次数\n",
    "    def __init__(self, k = 2, tolerance=1e-9, max_iter=300):\n",
    "        self.k_ = k\n",
    "        self.tolerance_ = tolerance\n",
    "        self.max_iter_ = max_iter\n",
    "        self.labels_ = None\n",
    "        \n",
    "    \n",
    "    def normalize(self, v):\n",
    "        return v / np.linalg.norm(v)\n",
    "        \n",
    "    def get_dist_to_plain(self, plain, v):\n",
    "        length = int(len(plain)/2)\n",
    "        v1, v2 = plain[0:length], plain[length:]\n",
    "        new_v = np.dot(np.dot(v1,v),v1) + np.dot(np.dot(v2,v),v2)\n",
    "        return np.linalg.norm(v-new_v)\n",
    "    \n",
    "    \n",
    "    def get_fitted_plain(self, vecs):\n",
    "        if len(vecs) == 2:\n",
    "            axis1, axis2 = vecs[0], vecs[1]\n",
    "        \n",
    "            axis1 = self.normalize(axis1)\n",
    "            a = 1\n",
    "            axis1_length = 1\n",
    "            b = -a / np.dot(axis2, axis1)\n",
    "            axis2 = self.normalize(a*axis1+b*axis2)\n",
    "            return np.array([axis1, axis2])\n",
    "    \n",
    "\n",
    "        length = len(vecs[0])\n",
    "        def fun(P):\n",
    "            \n",
    "            dists = np.sum([self.get_dist_to_plain(P, v) for v in vecs])\n",
    "            return dists\n",
    "        \n",
    "        \n",
    "        ans = fmin(fun, np.array([self.normalize(np.random.random(length)), self.normalize(np.random.random(length))]), maxfun=100000)\n",
    "       \n",
    "        axis1, axis2 = ans[0:length], ans[length:]\n",
    "        # print('ans', ans)\n",
    "        # print('axis1', axis1)\n",
    "        # print('axis2', axis2)\n",
    "        plain = np.array([axis1, axis2])\n",
    "        \n",
    "        \n",
    "        axis1 = self.normalize(axis1)\n",
    "        a = 1\n",
    "        axis1_length = 1\n",
    "        b = -a / np.dot(axis2, axis1)\n",
    "        axis2 = self.normalize(a*axis1+b*axis2)\n",
    "        \n",
    "        plain = np.array([axis1, axis2])\n",
    "        print('dists-->', np.sum([self.get_dist_to_plain(plain, feature) for feature in vecs]))\n",
    "        return plain\n",
    "    \n",
    "        \n",
    "    def get_init_plain(self, vecs):\n",
    "        id1, id2 = np.random.randint(0, len(vecs), size=2)\n",
    "        print(id1, id2) # 需完善\n",
    "        axis1, axis2 = self.get_fitted_plain(np.array([vecs[id1], vecs[id2]]))\n",
    "        # 验证\n",
    "        # print('!!!',self.get_dist_to_plain(np.array([axis1, axis2]), vecs[id1]))\n",
    "        return np.array([axis1, axis2])\n",
    "        \n",
    "    \n",
    "    \n",
    "\n",
    "    def fit(self, data):\n",
    "        \n",
    "        # 初始化初始平面\n",
    "        self.centers_ = {}\n",
    "        self.labels_ = [-1]*len(data)\n",
    "        # self.centers_ = random.sample(data, self.k_)\n",
    "        for i in range(self.k_):\n",
    "            self.centers_[i] = self.get_init_plain(data) # 带改为随机选取\n",
    "        \n",
    "                \n",
    "        # 对每一次迭代\n",
    "        for _ in range(self.max_iter_):\n",
    "            # print('-'*80)\n",
    "            self.clf_ = {}\n",
    "            for i in range(self.k_):\n",
    "                self.clf_[i] = []\n",
    "            # 对每一个数据点\n",
    "            j = 0\n",
    "            for feature in data:\n",
    "                distances = []\n",
    "                # 计算到每一个平面的距离\n",
    "                for plain in self.centers_.values():\n",
    "                    # print(plain)\n",
    "                    distances.append(self.get_dist_to_plain(plain, feature))\n",
    "                # 找到距离最近的簇的下标并加入该簇\n",
    "                \n",
    "                classification = distances.index(min(distances))\n",
    "                # print(distances, '--->', j, classification)\n",
    "                self.labels_[j] = classification\n",
    "                j = j + 1\n",
    "                self.clf_[classification].append(feature)\n",
    "\n",
    "            # print('x'*80)\n",
    "            # print(self.clf_)\n",
    "            prev_centers = dict(self.centers_)\n",
    "            for c in self.clf_:\n",
    "                axis1, axis2 = self.get_fitted_plain(np.array(self.clf_[c])) # 待考证\n",
    "                plain = np.array([axis1, axis2])\n",
    "#                 print('dists-->', np.sum([self.get_dist_to_plain(plain, feature) for feature in self.clf_[c]]))\n",
    "#                 print('cluster--> ',self.clf_[c])\n",
    "                self.centers_[c] = np.array([axis1, axis2])\n",
    "                # print('plaine--> ',self.centers_[c])\n",
    "                # print('*'*80)\n",
    "                \n",
    "\n",
    "            # '中心点'是否在误差范围\n",
    "            optimized = True\n",
    "            for center in self.centers_:\n",
    "                org_centers = prev_centers[center]\n",
    "                cur_centers = self.centers_[center]\n",
    "                # print(org_centers, cur_centers)\n",
    "                if np.sum((cur_centers - org_centers) / org_centers * 100.0) > self.tolerance_:\n",
    "                    optimized = False\n",
    "            if optimized:\n",
    "                break\n",
    "                \n",
    "        return self.centers_\n",
    "\n",
    "    def predict(self, p_data):\n",
    "        if p_data.ndim == 1:\n",
    "            distances = [get_dist_to_plain(center, p_data) for center in self.centers_]\n",
    "            index = distances.index(min(distances))\n",
    "            return index\n",
    "        else:\n",
    "            index = []\n",
    "            print(self.centers_)\n",
    "            for feature in p_data:\n",
    "                distances = [self.get_dist_to_plain(center, feature) for center in self.centers_.values()]\n",
    "                index.append(distances.index(min(distances)))\n",
    "            return index"
   ]
  },
  {
   "cell_type": "code",
   "execution_count": 498,
   "metadata": {},
   "outputs": [],
   "source": [
    "def normalize(v):\n",
    "    return v / np.linalg.norm(v)\n",
    "\n",
    "def get_proj_set_and_cluster(vecs, n_cluster=2):\n",
    "    # kmeans = KMeans(n_clusters=n_cluster, random_state=0).fit(vecs)\n",
    "    km = K_Means(k=n_cluster)\n",
    "    proj_set = km.fit(vecs)\n",
    "    print('*'*80,'\\n', proj_set)\n",
    "    km_labels = np.array(km.labels_)\n",
    "    # print(km_labels)\n",
    "    # clusters = []\n",
    "    vecs_label = []\n",
    "    \n",
    "    \n",
    "    # clu is the key of proj_set, referring the ID of cluster\n",
    "    # km_labels refers to the cluster ID each vector belong to\n",
    "    for clu in proj_set:\n",
    "        ids = np.arange(len(vecs))[km_labels == clu]\n",
    "        vec = vecs[ids]\n",
    "        print('test-->',np.sum([km.get_dist_to_plain(proj_set[clu], v) for v in vec]))\n",
    "        labels = [id_pair[i][0] for i in ids]\n",
    "        labels.extend([id_pair[i][1] for i in ids])\n",
    "        vecs_label.append(np.array(list(set(labels))))\n",
    "#         res = []\n",
    "#         for v in vec:\n",
    "#             res.append(normalize(v))\n",
    "#         res = np.array(res)\n",
    "#         if res.ndim == 1:\n",
    "#             res = res[np.newaxis, :]\n",
    "#         clusters.append(res)\n",
    "\n",
    "    # clusters = np.array(clusters)\n",
    "    return proj_set, vecs_label"
   ]
  },
  {
   "cell_type": "code",
   "execution_count": 527,
   "metadata": {
    "scrolled": false
   },
   "outputs": [
    {
     "name": "stdout",
     "output_type": "stream",
     "text": [
      "2 7\n",
      "5 6\n",
      "0 8\n",
      "Optimization terminated successfully.\n",
      "         Current function value: 1.023891\n",
      "         Iterations: 7228\n",
      "         Function evaluations: 9157\n",
      "dists2--> 1.0238909261210352\n",
      "dists--> 1.0057342204901802\n",
      "Optimization terminated successfully.\n",
      "         Current function value: 1.036241\n",
      "         Iterations: 10992\n",
      "         Function evaluations: 13915\n",
      "dists2--> 1.0362411504036868\n",
      "dists--> 1.0173577622369763\n",
      "Optimization terminated successfully.\n",
      "         Current function value: 0.842451\n",
      "         Iterations: 3054\n",
      "         Function evaluations: 3911\n",
      "dists2--> 0.8424505866984853\n",
      "dists--> 0.789280661399654\n",
      "Optimization terminated successfully.\n",
      "         Current function value: 0.800735\n",
      "         Iterations: 9488\n",
      "         Function evaluations: 11882\n",
      "dists2--> 0.8007350655504855\n",
      "dists--> 0.7923482201680566\n",
      "******************************************************************************** \n",
      " {0: array([[ 0.25866501,  0.04545324,  0.11705014,  0.05934303,  0.03903172,\n",
      "        -0.06551043, -0.05879618,  0.10060339,  0.82885014, -0.4554321 ],\n",
      "       [-0.22307517, -0.07360624, -0.10403676, -0.08578087,  0.00547837,\n",
      "        -0.53927329, -0.48990484, -0.62252167,  0.05117227, -0.07505544]]), 1: array([[-0.00655272,  0.01512236, -0.00882023,  0.00605762,  0.2516175 ,\n",
      "         0.16427713,  0.1598124 ,  0.15294983, -0.09450386, -0.92274098],\n",
      "       [-0.00556442,  0.01235436, -0.006751  , -0.07322743,  0.53233949,\n",
      "         0.43065852,  0.42802892,  0.43646116, -0.09515897,  0.37788113]]), 2: array([[-0.00859005,  0.08575279, -0.00384537, -0.06805634,  0.07863546,\n",
      "        -0.09014568, -0.1026711 , -0.09213388,  0.14170441,  0.96669866],\n",
      "       [-0.00758604, -0.0444246 , -0.00403387, -0.01871346,  0.02937001,\n",
      "        -0.5774796 , -0.50804317, -0.56494714, -0.26644168, -0.12244528]])}\n",
      "test--> 0.789280661399654\n",
      "test--> 1.0122215330754064e-15\n",
      "test--> 0.7923482201680566\n",
      "{0: array([[ 0.25866501,  0.04545324,  0.11705014,  0.05934303,  0.03903172,\n",
      "        -0.06551043, -0.05879618,  0.10060339,  0.82885014, -0.4554321 ],\n",
      "       [-0.22307517, -0.07360624, -0.10403676, -0.08578087,  0.00547837,\n",
      "        -0.53927329, -0.48990484, -0.62252167,  0.05117227, -0.07505544]]), 1: array([[-0.00655272,  0.01512236, -0.00882023,  0.00605762,  0.2516175 ,\n",
      "         0.16427713,  0.1598124 ,  0.15294983, -0.09450386, -0.92274098],\n",
      "       [-0.00556442,  0.01235436, -0.006751  , -0.07322743,  0.53233949,\n",
      "         0.43065852,  0.42802892,  0.43646116, -0.09515897,  0.37788113]]), 2: array([[-0.00859005,  0.08575279, -0.00384537, -0.06805634,  0.07863546,\n",
      "        -0.09014568, -0.1026711 , -0.09213388,  0.14170441,  0.96669866],\n",
      "       [-0.00758604, -0.0444246 , -0.00403387, -0.01871346,  0.02937001,\n",
      "        -0.5774796 , -0.50804317, -0.56494714, -0.26644168, -0.12244528]])}\n",
      "[array([0, 2, 3]), array([1, 3, 4]), array([0, 1, 2, 3, 4])]\n"
     ]
    }
   ],
   "source": [
    "proj_set, vecs_label = get_proj_set_and_cluster(vecs, 3)\n",
    "print(proj_set)\n",
    "print(vecs_label)"
   ]
  },
  {
   "cell_type": "code",
   "execution_count": 501,
   "metadata": {},
   "outputs": [
    {
     "name": "stdout",
     "output_type": "stream",
     "text": [
      "[array([0, 1, 2, 3]), array([0, 1, 2, 3, 4]), array([0, 2])]\n"
     ]
    }
   ],
   "source": [
    "print(vecs_label)"
   ]
  },
  {
   "cell_type": "code",
   "execution_count": 144,
   "metadata": {},
   "outputs": [],
   "source": [
    "def project_on_merged_vectors(data, label, plot_class_set, axis1, axis2, ax=None):\n",
    "    '''\n",
    "        axis?: 一个向量集所对应的box区域的交集部分的中心向量\n",
    "        set? : axis?所对应的向量集所能区分的labels\n",
    "        \n",
    "    '''\n",
    "    data_0 = []\n",
    "    data_1 = []\n",
    "    label_ = []\n",
    "    for it in set(plot_class_set):\n",
    "        x = np.dot(data[label == it], axis1)\n",
    "        if it in plot_class_set:\n",
    "            data_0.extend(list(x))\n",
    "        \n",
    "        if len(axis2):\n",
    "            y = np.dot(data[label == it], axis2)\n",
    "            if it in plot_class_set:\n",
    "                data_1.extend(list(y))\n",
    "            \n",
    "        if it in plot_class_set:\n",
    "            label_.extend([it]*len(x))\n",
    "        \n",
    "        if ax:\n",
    "            if it in plot_class_set:\n",
    "                ax.scatter(x, y, color=get_corresponding_color(it), label=str(it), alpha=1, s=10)\n",
    "            else:\n",
    "                ax.scatter(x, y, color=get_corresponding_color(it), label=str(it), alpha=0.1, s=10)\n",
    "                \n",
    "                \n",
    "    if ax:\n",
    "        ax.legend(loc='center left', bbox_to_anchor=(0.2, 1.12),ncol=3)\n",
    "    \n",
    "    if len(axis2) == 0:\n",
    "        data_1 = [0 for _ in range(len(data_0))]\n",
    "        \n",
    "    data_ = np.vstack([data_0,data_1]).T\n",
    "    label_ = np.array(label_)\n",
    "    return data_0, data_1, data_, label_   \n",
    "    \n"
   ]
  },
  {
   "cell_type": "code",
   "execution_count": 224,
   "metadata": {},
   "outputs": [],
   "source": [
    "def get_corresponding_color(id):\n",
    "    return colors[id]\n",
    "\n",
    "def draw_projection(proj_set, data, label, vecs_label):\n",
    "    plot_tot = int(len(proj_set))\n",
    "\n",
    "    # 投影后的点的矩阵的shape\n",
    "    row_num = int(np.ceil(plot_tot / 2.0))\n",
    "    col_num = 2     # 列数=总图数/行数\n",
    "\n",
    "    fig, ax = plt.subplots(nrows=row_num, ncols=col_num, squeeze=False, figsize=(10, 10))\n",
    "\n",
    "    pos = 0 \n",
    "\n",
    "    # 对每一个图\n",
    "    for i in range(row_num):\n",
    "        for j in range(col_num):\n",
    "            proj = proj_set[pos]\n",
    "            sep_labels = [i for i in vecs_label[pos]]\n",
    "            print(sep_labels)\n",
    "            project_on_merged_vectors(data, label, sep_labels, proj[0], proj[1], ax[i][j])\n",
    "            pos += 1\n",
    "            if pos == plot_tot:\n",
    "                break\n",
    "        if pos == plot_tot:\n",
    "                break\n",
    "\n",
    "    plt.tight_layout()\n",
    "        "
   ]
  },
  {
   "cell_type": "code",
   "execution_count": 528,
   "metadata": {},
   "outputs": [
    {
     "name": "stdout",
     "output_type": "stream",
     "text": [
      "[0, 2, 3]\n",
      "[1, 3, 4]\n",
      "[0, 1, 2, 3, 4]\n"
     ]
    },
    {
     "data": {
      "image/png": "[encoded data removed]",
      "text/plain": [
       "<Figure size 720x720 with 4 Axes>"
      ]
     },
     "metadata": {
      "needs_background": "light"
     },
     "output_type": "display_data"
    }
   ],
   "source": [
    "draw_projection(proj_set, data, label, vecs_label)"
   ]
  },
  {
   "cell_type": "code",
   "execution_count": 529,
   "metadata": {},
   "outputs": [
    {
     "name": "stdout",
     "output_type": "stream",
     "text": [
      "{0: 0.7519379844961239, 2: 0.39583333333333326, 3: 0.38257575757575757}\n",
      "{1: 0.9369369369369369, 3: 0.8863636363636364, 4: 0.9878048780487805}\n",
      "{0: 0.7984496124031006, 1: 0.5945945945945946, 2: 0.1875, 3: 0.356060606060606, 4: 0.6626016260162602}\n",
      "-------\n",
      "{0: 0.7984496124031006, 2: 0.39583333333333326, 3: 0.8863636363636364, 1: 0.9369369369369369, 4: 0.9878048780487805}\n",
      "{0: 43, 2: 8, 3: 22, 1: 37, 4: 41}\n"
     ]
    },
    {
     "data": {
      "text/plain": [
       "0.8752759381898454"
      ]
     },
     "execution_count": 529,
     "metadata": {},
     "output_type": "execute_result"
    }
   ],
   "source": [
    "get_weighted_GONG(data, label, proj_set, vecs_label)"
   ]
  },
  {
   "cell_type": "code",
   "execution_count": 521,
   "metadata": {},
   "outputs": [
    {
     "name": "stdout",
     "output_type": "stream",
     "text": [
      "7 2\n",
      "3 2\n",
      "7 1\n",
      "Optimization terminated successfully.\n",
      "         Current function value: 1.288937\n",
      "         Iterations: 8726\n",
      "         Function evaluations: 11032\n",
      "dists2--> 1.2889365687204335\n",
      "dists--> 1.2736444103160034\n",
      "Optimization terminated successfully.\n",
      "         Current function value: 1.173906\n",
      "         Iterations: 14224\n",
      "         Function evaluations: 17869\n",
      "dists2--> 1.173906454725501\n",
      "dists--> 1.1691362106906664\n",
      "Optimization terminated successfully.\n",
      "         Current function value: 1.537433\n",
      "         Iterations: 14246\n",
      "         Function evaluations: 17998\n",
      "dists2--> 1.537432790914536\n",
      "dists--> 1.5365917616032856\n",
      "******************************************************************************** \n",
      " {0: array([[ 0.0030737 , -0.00764357,  0.00469589, -0.01531187,  0.05904783,\n",
      "        -0.59071367, -0.57010413, -0.56437359,  0.00126363,  0.06089725],\n",
      "       [ 0.00319907, -0.01058412,  0.00688367, -0.01514694, -0.07314794,\n",
      "        -0.07932715, -0.03857184,  0.04735993,  0.75612398, -0.64226419]]), 1: array([[ 0.01235   , -0.00938868, -0.00873739,  0.06106958,  0.01386543,\n",
      "         0.27990275,  0.21620018,  0.15079281, -0.07286159, -0.91794657],\n",
      "       [-0.02475091, -0.1535562 , -0.04256449,  0.06857367, -0.38246669,\n",
      "         0.79853258,  0.25191876,  0.04036192, -0.13267293,  0.320413  ]]), 2: array([[ 0.01000427, -0.00899252,  0.00154087,  0.05179582, -0.06149149,\n",
      "         0.52888697,  0.49012759,  0.51823871,  0.16787152, -0.42030224],\n",
      "       [ 0.0262594 , -0.02589785,  0.00834865, -0.00154529,  0.00982389,\n",
      "        -0.25967004, -0.23166389, -0.20341469,  0.72337746, -0.55921549]])}\n",
      "test--> 2.8602848368036223e-16\n",
      "test--> 1.5365917616032856\n",
      "test--> 2.356687444012282e-16\n",
      "{0: array([[ 0.0030737 , -0.00764357,  0.00469589, -0.01531187,  0.05904783,\n",
      "        -0.59071367, -0.57010413, -0.56437359,  0.00126363,  0.06089725],\n",
      "       [ 0.00319907, -0.01058412,  0.00688367, -0.01514694, -0.07314794,\n",
      "        -0.07932715, -0.03857184,  0.04735993,  0.75612398, -0.64226419]]), 1: array([[ 0.01235   , -0.00938868, -0.00873739,  0.06106958,  0.01386543,\n",
      "         0.27990275,  0.21620018,  0.15079281, -0.07286159, -0.91794657],\n",
      "       [-0.02475091, -0.1535562 , -0.04256449,  0.06857367, -0.38246669,\n",
      "         0.79853258,  0.25191876,  0.04036192, -0.13267293,  0.320413  ]]), 2: array([[ 0.01000427, -0.00899252,  0.00154087,  0.05179582, -0.06149149,\n",
      "         0.52888697,  0.49012759,  0.51823871,  0.16787152, -0.42030224],\n",
      "       [ 0.0262594 , -0.02589785,  0.00834865, -0.00154529,  0.00982389,\n",
      "        -0.25967004, -0.23166389, -0.20341469,  0.72337746, -0.55921549]])}\n",
      "[array([0, 2, 3]), array([0, 1, 2, 3, 4]), array([0, 1, 2])]\n"
     ]
    }
   ],
   "source": [
    "proj_set, vecs_label = get_proj_set_and_cluster(vecs, 3)\n",
    "print(proj_set)\n",
    "print(vecs_label)"
   ]
  },
  {
   "cell_type": "code",
   "execution_count": 522,
   "metadata": {},
   "outputs": [
    {
     "name": "stdout",
     "output_type": "stream",
     "text": [
      "[0, 2, 3]\n",
      "[0, 1, 2, 3, 4]\n",
      "[0, 1, 2]\n"
     ]
    },
    {
     "data": {
      "image/png": "[encoded data removed]",
      "text/plain": [
       "<Figure size 720x720 with 4 Axes>"
      ]
     },
     "metadata": {
      "needs_background": "light"
     },
     "output_type": "display_data"
    }
   ],
   "source": [
    "draw_projection(proj_set, data, label, vecs_label)"
   ]
  },
  {
   "cell_type": "code",
   "execution_count": 523,
   "metadata": {},
   "outputs": [
    {
     "name": "stdout",
     "output_type": "stream",
     "text": [
      "{0: 0.9224806201550387, 2: 1.0, 3: 0.7878787878787878}\n",
      "{0: 0.7151162790697675, 1: 0.6396396396396395, 2: 0.5416666666666666, 3: 0.37121212121212127, 4: 0.7886178861788616}\n",
      "{0: 0.9922480620155039, 1: 0.9279279279279278, 2: 0.6041666666666666}\n",
      "-------\n",
      "{0: 0.9922480620155039, 2: 1.0, 3: 0.7878787878787878, 1: 0.9279279279279278, 4: 0.7886178861788616}\n",
      "{0: 43, 2: 8, 3: 22, 1: 37, 4: 41}\n"
     ]
    },
    {
     "data": {
      "text/plain": [
       "0.8918322295805738"
      ]
     },
     "execution_count": 523,
     "metadata": {},
     "output_type": "execute_result"
    }
   ],
   "source": [
    "get_weighted_GONG(data, label, proj_set, vecs_label)"
   ]
  },
  {
   "cell_type": "markdown",
   "metadata": {},
   "source": [
    "## Test"
   ]
  },
  {
   "cell_type": "code",
   "execution_count": 150,
   "metadata": {},
   "outputs": [],
   "source": [
    "from sklearn.discriminant_analysis import LinearDiscriminantAnalysis as LDA\n",
    "from sklearn.decomposition import PCA\n",
    "from sklearn.manifold import TSNE\n",
    "from sklearn.preprocessing import StandardScaler"
   ]
  },
  {
   "cell_type": "code",
   "execution_count": 151,
   "metadata": {},
   "outputs": [],
   "source": [
    "def test_lda(fname, data, label):\n",
    "    clf = LDA(n_components=2)\n",
    "    new_data_LDA = clf.fit_transform(data, label)\n",
    "    plt.scatter(new_data_LDA[:, 0], new_data_LDA[:, 1], c=label,\n",
    "            cmap=matplotlib.colors.ListedColormap(colors))\n",
    "\n",
    "    GONG = get_GONG_value(new_data_LDA, label, 'test')\n",
    "    plt.title('LDA: ' + str(round(GONG, 4)))\n",
    "    \n",
    "#     plt.savefig('./result/' + fname + '/' + fname.split('.')[0] + '_LDA.png')\n",
    "    plt.show()\n",
    "    \n",
    "    return GONG"
   ]
  },
  {
   "cell_type": "code",
   "execution_count": 152,
   "metadata": {},
   "outputs": [],
   "source": [
    "def test_pca(fname, data, label):\n",
    "    pca = PCA(n_components=2)\n",
    "    new_data_PCA = pca.fit_transform(data)\n",
    "\n",
    "    plt.scatter(new_data_PCA[:, 0], new_data_PCA[:, 1], c=label,\n",
    "            cmap=matplotlib.colors.ListedColormap(colors))\n",
    "\n",
    "    GONG = get_GONG_value(new_data_PCA, label, 'test')\n",
    "    plt.title('PCA: ' + str(round(GONG, 4)))\n",
    "    \n",
    "#     plt.savefig('./result/' + fname + '/' + fname.split('.')[0] + '_PCA.png')\n",
    "\n",
    "    plt.show()\n",
    "    return GONG"
   ]
  },
  {
   "cell_type": "code",
   "execution_count": 153,
   "metadata": {},
   "outputs": [],
   "source": [
    "def test_tsne(fname, data, label):\n",
    "    sc = StandardScaler()\n",
    "    data_std = sc.fit_transform(data)\n",
    "\n",
    "    tsne = TSNE(n_components=2, learning_rate=100)\n",
    "    new_data_tsne = tsne.fit_transform(data)\n",
    "\n",
    "    plt.scatter(new_data_tsne[:, 0], new_data_tsne[:, 1], c=label,\n",
    "            cmap=matplotlib.colors.ListedColormap(colors))\n",
    "\n",
    "    GONG = get_GONG_value(new_data_tsne, label, 'test')\n",
    "    plt.title('t-SNE: ' + str(round(GONG, 4)))\n",
    "    \n",
    "#     plt.savefig('./result/' + fname + '/' + fname.split('.')[0] + '_TSNE.png')\n",
    "\n",
    "    plt.show()\n",
    "    return GONG"
   ]
  },
  {
   "cell_type": "code",
   "execution_count": 154,
   "metadata": {},
   "outputs": [],
   "source": [
    "def test_kda(fname, data, label):\n",
    "    kda = KernelDiscriminantAnalysis()\n",
    "    a = kda.fit(data, label)\n",
    "    b = kda.transform(data)\n",
    "    new_data_KDA = kda.fit_transform(data,label)\n",
    "    plt.scatter(new_data_KDA[:,0],new_data_KDA[:,1],c=label,cmap = matplotlib.colors.ListedColormap(colors))\n",
    "    GONG = get_GONG_value(new_data_KDA, label, 'test')\n",
    "    plt.title('KDA: ' + str(round(GONG, 4)))\n",
    "    plt.show()\n",
    "    \n",
    "#     plt.savefig('./result/' + fname + '/' + fname.split('.')[0] + '_KDA.png')\n",
    "    return GONG"
   ]
  },
  {
   "cell_type": "code",
   "execution_count": 155,
   "metadata": {},
   "outputs": [],
   "source": [
    "\"\"\"\n",
    "Scikit-learn-compatible Kernel Discriminant Analysis.\n",
    "\n",
    "Used in\n",
    "David Diaz-Vico, Jose R. Dorronsoro\n",
    "\"Deep vs Kernel Fisher Discriminant Analysis\"\n",
    "\n",
    "Based on algorithm 5 in\n",
    "Zhihua Zhang, Guang Dai, Congfu Xu, Michael I. Jordan\n",
    "\"Regularized Discriminant Analysis, Ridge Regression and Beyond\"\n",
    "http://www.jmlr.org/papers/v11/zhang10b.html\n",
    "\n",
    ",author: David Diaz Vico\n",
    ",license: MIT\n",
    "\"\"\"\n",
    "\n",
    "import numpy as np\n",
    "from sklearn.base import BaseEstimator, ClassifierMixin, TransformerMixin\n",
    "from sklearn.metrics.pairwise import (chi2_kernel, laplacian_kernel,\n",
    "                                      linear_kernel, polynomial_kernel,\n",
    "                                      rbf_kernel, sigmoid_kernel)\n",
    "from sklearn.preprocessing import OneHotEncoder\n",
    "from sklearn.utils.validation import check_array, check_is_fitted, check_X_y\n",
    "from sklearn.datasets import make_classification\n",
    "from scipy.sparse import csc_matrix, csr_matrix\n",
    "\n",
    "class KernelDiscriminantAnalysis(BaseEstimator, ClassifierMixin,\n",
    "                                 TransformerMixin):\n",
    "    \"\"\"Kernel Discriminant Analysis.\n",
    "\n",
    "    Parameters\n",
    "    ----------\n",
    "    lmb: float (>= 0.0), default=0.001\n",
    "         Regularization parameter\n",
    "    kernel: {\"chi2\", \"laplacian\", \"linear\", \"polynomial\", \"rbf\", \"sigmoid\"},\n",
    "            default='rbf'\n",
    "            Kernel.\n",
    "    degree: integer, default=3\n",
    "    gamma: float, default=None\n",
    "    coef0: integer, default=1\n",
    "\n",
    "    \"\"\"\n",
    "\n",
    "    def __init__(self, lmb=0.001, kernel='rbf', degree=3, gamma=None, coef0=1):\n",
    "        self.lmb = lmb\n",
    "        self.kernel = kernel\n",
    "        self.degree = degree\n",
    "        self.gamma = gamma\n",
    "        self.coef0 = coef0\n",
    "\n",
    "    def _kernel(self, X, Y=None):\n",
    "        \"\"\"Kernel\"\"\"\n",
    "        kernel = None\n",
    "        if self.kernel == 'chi2':\n",
    "            kernel = chi2_kernel(X, Y, gamma=self.gamma)\n",
    "        elif self.kernel == 'laplacian':\n",
    "            kernel = laplacian_kernel(X, Y, gamma=self.gamma)\n",
    "        elif self.kernel == 'linear':\n",
    "            kernel = linear_kernel(X, Y)\n",
    "        elif self.kernel == 'polynomial':\n",
    "            kernel = polynomial_kernel(X, Y, degree=self.degree,\n",
    "                                       gamma=self.gamma, coef0=self.coef0)\n",
    "        elif self.kernel == 'rbf':\n",
    "            kernel = rbf_kernel(X, Y, gamma=self.gamma)\n",
    "        elif self.kernel == 'sigmoid':\n",
    "            kernel = sigmoid_kernel(X, Y, gamma=self.gamma, coef0=self.coef0)\n",
    "        return kernel\n",
    "\n",
    "    def fit(self, X, y):\n",
    "        \"\"\"Fit KFDA model.\n",
    "\n",
    "        Parameters\n",
    "        ----------\n",
    "        X: numpy array of shape [n_samples, n_features]\n",
    "           Training set.\n",
    "        y: numpy array of shape [n_samples]\n",
    "           label values. Only works for 2 classes.\n",
    "\n",
    "        Returns\n",
    "        -------\n",
    "        self\n",
    "\n",
    "        \"\"\"\n",
    "        n = len(X)\n",
    "        self._X = X\n",
    "        self._H = np.identity(n) - np.matmul(1. / n * np.ones(n), np.ones(n).T) #np.ones(n) , np.ones(n).T\n",
    "        self._E = OneHotEncoder().fit_transform(y.reshape(n, 1))\n",
    "        _, counts = np.unique(y, return_counts=True)\n",
    "        K = self._kernel(X)\n",
    "        C = np.matmul(np.matmul(self._H, K), self._H)\n",
    "        self._Delta = np.linalg.inv(C + self.lmb * np.identity(n))\n",
    "        A = np.matmul(csc_matrix.toarray(self._E.T), C)\n",
    "        B = np.matmul(self._Delta , csr_matrix.toarray(self._E))\n",
    "        self._Pi_12 = np.diag(np.sqrt(1.0 / counts))\n",
    "        P = np.matmul(self._Pi_12 , A)\n",
    "        Q = np.matmul(B , self._Pi_12)\n",
    "        R = np.matmul(P, Q)\n",
    "        V, self._Gamma, self._U = np.linalg.svd(R, full_matrices=False)\n",
    "        return self\n",
    "\n",
    "    def transform(self, X):\n",
    "        \"\"\"Transform data with the trained KFDA model.\n",
    "\n",
    "        Parameters\n",
    "        ----------\n",
    "        X: numpy array of shape [n_samples, n_features]\n",
    "           The input data.\n",
    "\n",
    "        Returns\n",
    "        -------\n",
    "        y_pred: array-like, shape (n_samples, labels_shape)\n",
    "                Transformations for X.\n",
    "\n",
    "        \"\"\"\n",
    "        _K = self._kernel(X, self._X)\n",
    "        K = _K - np.mean(_K, axis=0)\n",
    "        C = np.matmul(self._H, K.T)\n",
    "        x = np.matmul(np.matmul(self._U, self._Pi_12), csc_matrix.toarray(self._E.T))\n",
    "        T = np.matmul(x,self._Delta)\n",
    "        Z = np.matmul(T, C)\n",
    "        return Z.T"
   ]
  },
  {
   "cell_type": "code",
   "execution_count": null,
   "metadata": {},
   "outputs": [],
   "source": [
    "def run_all(fname, n_cluster):\n",
    "    # get the data\n",
    "    data, label = read_data_from_file(fname)\n",
    "    label = get_label_right(label)\n",
    "    label = np.array(list(map(int, label)))\n",
    "    print(data.shape)\n",
    "    print(label)\n",
    "    print('+'*80)\n",
    "    # get the cluster\n",
    "    vec_dict, vecs = get_between_class_opt_vec(data, label)\n",
    "    id_pair = get_id_pair(vec_dict)\n",
    "    clusters, vecs_label = get_cluster(vecs, n_cluster)\n",
    "    print(clusters)\n",
    "    print(vecs_label)\n",
    "    print('-'*100)\n",
    "    # get the projection\n",
    "    proj_set = get_proj_set(clusters)\n",
    "    print(proj_set)\n",
    "    draw_projection(proj_set, data, label, vecs_label)\n",
    "    score = get_weighted_GONG(data, label, proj_set, vecs_label)\n",
    "    print(score)\n",
    "    return score"
   ]
  },
  {
   "cell_type": "markdown",
   "metadata": {},
   "source": [
    "## Total"
   ]
  },
  {
   "cell_type": "code",
   "execution_count": 455,
   "metadata": {
    "scrolled": false
   },
   "outputs": [
    {
     "data": {
      "image/png": "[encoded data removed]",
      "text/plain": [
       "<Figure size 432x288 with 1 Axes>"
      ]
     },
     "metadata": {
      "needs_background": "light"
     },
     "output_type": "display_data"
    },
    {
     "data": {
      "image/png": "[encoded data removed]",
      "text/plain": [
       "<Figure size 432x288 with 1 Axes>"
      ]
     },
     "metadata": {
      "needs_background": "light"
     },
     "output_type": "display_data"
    },
    {
     "data": {
      "image/png": "[encoded data removed]",
      "text/plain": [
       "<Figure size 432x288 with 1 Axes>"
      ]
     },
     "metadata": {
      "needs_background": "light"
     },
     "output_type": "display_data"
    },
    {
     "data": {
      "image/png": "[encoded data removed]",
      "text/plain": [
       "<Figure size 432x288 with 1 Axes>"
      ]
     },
     "metadata": {
      "needs_background": "light"
     },
     "output_type": "display_data"
    },
    {
     "data": {
      "text/plain": [
       "1.0"
      ]
     },
     "execution_count": 455,
     "metadata": {},
     "output_type": "execute_result"
    }
   ],
   "source": [
    "fname = 'world_9d.csv'\n",
    "data, label = read_data_from_file(fname)\n",
    "# run_all(fname, 4)\n",
    "test_lda(fname, data, label)\n",
    "test_pca(fname, data, label)\n",
    "test_tsne(fname, data, label)\n",
    "test_kda(fname, data, label)"
   ]
  },
  {
   "cell_type": "code",
   "execution_count": null,
   "metadata": {},
   "outputs": [],
   "source": [
    "run_all(fname, 4)"
   ]
  },
  {
   "cell_type": "code",
   "execution_count": null,
   "metadata": {},
   "outputs": [],
   "source": [
    "import os"
   ]
  },
  {
   "cell_type": "code",
   "execution_count": null,
   "metadata": {},
   "outputs": [],
   "source": [
    "def run_on_all_file():\n",
    "    path = r'.\\Data'\n",
    "    dirs = os.listdir(path)\n",
    "#     print(dirs)\n",
    "    if not os.path.exists('./result'):\n",
    "        os.mkdir(\"result\")\n",
    "    for fname in dirs:\n",
    "        print(fname)\n",
    "#         fname = \"world_9d.csv\"\n",
    "        if not os.path.exists(r'.\\result\\\\'+fname):\n",
    "            os.mkdir(r'.\\result\\\\'+fname)\n",
    "        data, label = read_data_from_file(fname)\n",
    "        proj_set_GONG = run_all(fname=fname, threshold=0.92)\n",
    "        lda_GONG = test_lda(fname, data, label)\n",
    "        pca_GONG = test_pca(fname, data, label)\n",
    "        tsne_GONG = test_tsne(fname, data, label)\n",
    "        kda_GONG = test_kda(fname, data, label)\n",
    "        GONG_list = np.array([proj_set_GONG,lda_GONG,pca_GONG,tsne_GONG,kda_GONG])\n",
    "        print(fname)\n",
    "        "
   ]
  },
  {
   "cell_type": "code",
   "execution_count": null,
   "metadata": {},
   "outputs": [],
   "source": [
    "run_on_all_file()"
   ]
  },
  {
   "cell_type": "code",
   "execution_count": null,
   "metadata": {},
   "outputs": [],
   "source": [
    "def test_threshold(fname, measure_option = \"dDSC\"):\n",
    "    thresholds = list(np.linspace(0.9, 0.8, 10))\n",
    "    GONG_list = []\n",
    "    for threshold in thresholds:\n",
    "        stime = time.time()\n",
    "        weighted_GONG = run_all(fname=fname, threshold=threshold)\n",
    "#         GONG_list.append(weighted_GONG)\n",
    "        print(\"~~~~~~~~~~~~~~~~~~~~~~~~~~~~~~~~~~~~~~~~~~~~~~~~~~~~~~~~~~~~~\")\n",
    "    plt.plot(thresholds, GONG_list)\n",
    "    \n",
    "    return GONG_list"
   ]
  },
  {
   "cell_type": "code",
   "execution_count": null,
   "metadata": {},
   "outputs": [],
   "source": [
    "test_threshold(fname='world_9d.csv')"
   ]
  },
  {
   "cell_type": "code",
   "execution_count": null,
   "metadata": {},
   "outputs": [],
   "source": [
    "#2个类的文件都要踢出来\n",
    "path = r'.\\Data'\n",
    "dirs = os.listdir(path)\n",
    "for fname in dirs:\n",
    "    data, label = read_data_from_file(fname)\n",
    "    if(len(set(label)) == 2):\n",
    "        print(fname)"
   ]
  },
  {
   "cell_type": "code",
   "execution_count": null,
   "metadata": {},
   "outputs": [],
   "source": []
  }
 ],
 "metadata": {
  "kernelspec": {
   "display_name": "Python 3",
   "language": "python",
   "name": "python3"
  },
  "language_info": {
   "codemirror_mode": {
    "name": "ipython",
    "version": 3
   },
   "file_extension": ".py",
   "mimetype": "text/x-python",
   "name": "python",
   "nbconvert_exporter": "python",
   "pygments_lexer": "ipython3",
   "version": "3.8.8"
  }
 },
 "nbformat": 4,
 "nbformat_minor": 4
}
